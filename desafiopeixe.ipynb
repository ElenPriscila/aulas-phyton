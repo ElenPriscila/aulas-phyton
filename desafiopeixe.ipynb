{
 "cells": [
  {
   "cell_type": "code",
   "execution_count": 4,
   "metadata": {},
   "outputs": [
    {
     "name": "stdout",
     "output_type": "stream",
     "text": [
      "Seu número escolhido foi: 4\n"
     ]
    }
   ],
   "source": [
    "#pedir um numero\n",
    "numero= int (input (\"Digite um número:\"))\n",
    "print(\"Seu número escolhido foi:\", numero)"
   ]
  },
  {
   "cell_type": "code",
   "execution_count": 5,
   "metadata": {},
   "outputs": [
    {
     "name": "stdout",
     "output_type": "stream",
     "text": [
      "A soma é:  8\n"
     ]
    }
   ],
   "source": [
    "numero= int (input (\"Digite o primeiro número: \"))\n",
    "numero2 = int (input (\"Digite o segundo número: \"))\n",
    "soma = numero + numero2\n",
    "print (\"A soma é: \", soma)"
   ]
  },
  {
   "cell_type": "code",
   "execution_count": 13,
   "metadata": {},
   "outputs": [
    {
     "name": "stdout",
     "output_type": "stream",
     "text": [
      "A sua média é: 7.133333333333333\n"
     ]
    }
   ],
   "source": [
    "nota1= float (input (\"Digite a sua primeira nota:\"))\n",
    "nota2= float (input (\"Digite a sua segunda nota:\"))\n",
    "nota3= float (input (\"Digite a sua terceira nota:\"))\n",
    "media= (nota1 + nota2 + nota3) / 3\n",
    "print(\"A sua média é:\", media) "
   ]
  },
  {
   "cell_type": "code",
   "execution_count": 14,
   "metadata": {},
   "outputs": [
    {
     "name": "stdout",
     "output_type": "stream",
     "text": [
      "Você ganha 2200.0 reais no mês\n"
     ]
    }
   ],
   "source": [
    "ganhoporhora= float (input (\"Quanto você ganha por hora?\"))\n",
    "numerodehoras= float (input (\"Quantas horas você trabalha no mês?\"))\n",
    "ValorNoMes= (ganhoporhora * numerodehoras)\n",
    "print(\"Você ganha\", ValorNoMes,\"reais no mês\")"
   ]
  },
  {
   "cell_type": "code",
   "execution_count": 18,
   "metadata": {},
   "outputs": [
    {
     "name": "stdout",
     "output_type": "stream",
     "text": [
      "Você não precisa pagar multa.\n"
     ]
    }
   ],
   "source": [
    "#criando variavel para o peso do peixe\n",
    "pesoPeixe= float (input(\"Digite o peso do seu peixe:\"))\n",
    "\n",
    "#criando a condicional para calcular a multa\n",
    "if (pesoPeixe > 50):\n",
    "    excesso = pesoPeixe - 50\n",
    "    multa = excesso * 4\n",
    "    print(\"O valor da sua multa é:\", multa)\n",
    "else:\n",
    "    print(\"Você não precisa pagar multa.\")     "
   ]
  }
 ],
 "metadata": {
  "kernelspec": {
   "display_name": "Python 3",
   "language": "python",
   "name": "python3"
  },
  "language_info": {
   "codemirror_mode": {
    "name": "ipython",
    "version": 3
   },
   "file_extension": ".py",
   "mimetype": "text/x-python",
   "name": "python",
   "nbconvert_exporter": "python",
   "pygments_lexer": "ipython3",
   "version": "3.11.4"
  }
 },
 "nbformat": 4,
 "nbformat_minor": 2
}
